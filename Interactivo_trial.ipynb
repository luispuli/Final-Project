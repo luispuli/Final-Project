{
  "nbformat": 4,
  "nbformat_minor": 0,
  "metadata": {
    "colab": {
      "provenance": [],
      "authorship_tag": "ABX9TyMV/tR3MmuNnSIXVGvRyC5d",
      "include_colab_link": true
    },
    "kernelspec": {
      "name": "python3",
      "display_name": "Python 3"
    },
    "language_info": {
      "name": "python"
    },
    "widgets": {
      "application/vnd.jupyter.widget-state+json": {
        "539c56c7de544b14b6cb3099996536ab": {
          "model_module": "@jupyter-widgets/controls",
          "model_name": "TextModel",
          "model_module_version": "1.5.0",
          "state": {
            "_dom_classes": [],
            "_model_module": "@jupyter-widgets/controls",
            "_model_module_version": "1.5.0",
            "_model_name": "TextModel",
            "_view_count": null,
            "_view_module": "@jupyter-widgets/controls",
            "_view_module_version": "1.5.0",
            "_view_name": "TextView",
            "continuous_update": true,
            "description": "",
            "description_tooltip": null,
            "disabled": false,
            "layout": "IPY_MODEL_3228b3f83d8f48109f8be86a033cd335",
            "placeholder": "Enter text",
            "style": "IPY_MODEL_fa1529e54f054ec7b201aa039bb44e6d",
            "value": "hello"
          }
        },
        "3228b3f83d8f48109f8be86a033cd335": {
          "model_module": "@jupyter-widgets/base",
          "model_name": "LayoutModel",
          "model_module_version": "1.2.0",
          "state": {
            "_model_module": "@jupyter-widgets/base",
            "_model_module_version": "1.2.0",
            "_model_name": "LayoutModel",
            "_view_count": null,
            "_view_module": "@jupyter-widgets/base",
            "_view_module_version": "1.2.0",
            "_view_name": "LayoutView",
            "align_content": null,
            "align_items": null,
            "align_self": null,
            "border": null,
            "bottom": null,
            "display": null,
            "flex": null,
            "flex_flow": null,
            "grid_area": null,
            "grid_auto_columns": null,
            "grid_auto_flow": null,
            "grid_auto_rows": null,
            "grid_column": null,
            "grid_gap": null,
            "grid_row": null,
            "grid_template_areas": null,
            "grid_template_columns": null,
            "grid_template_rows": null,
            "height": null,
            "justify_content": null,
            "justify_items": null,
            "left": null,
            "margin": null,
            "max_height": null,
            "max_width": null,
            "min_height": null,
            "min_width": null,
            "object_fit": null,
            "object_position": null,
            "order": null,
            "overflow": null,
            "overflow_x": null,
            "overflow_y": null,
            "padding": null,
            "right": null,
            "top": null,
            "visibility": null,
            "width": null
          }
        },
        "fa1529e54f054ec7b201aa039bb44e6d": {
          "model_module": "@jupyter-widgets/controls",
          "model_name": "DescriptionStyleModel",
          "model_module_version": "1.5.0",
          "state": {
            "_model_module": "@jupyter-widgets/controls",
            "_model_module_version": "1.5.0",
            "_model_name": "DescriptionStyleModel",
            "_view_count": null,
            "_view_module": "@jupyter-widgets/base",
            "_view_module_version": "1.2.0",
            "_view_name": "StyleView",
            "description_width": ""
          }
        }
      }
    }
  },
  "cells": [
    {
      "cell_type": "markdown",
      "metadata": {
        "id": "view-in-github",
        "colab_type": "text"
      },
      "source": [
        "<a href=\"https://colab.research.google.com/github/luispuli/Final-Project/blob/master/Interactivo_trial.ipynb\" target=\"_parent\"><img src=\"https://colab.research.google.com/assets/colab-badge.svg\" alt=\"Open In Colab\"/></a>"
      ]
    },
    {
      "cell_type": "code",
      "source": [
        "import pandas as pd\n",
        "import numpy as np\n",
        "from sklearn.model_selection import train_test_split\n",
        "from sklearn.feature_extraction.text import TfidfVectorizer\n",
        "from sklearn.ensemble import RandomForestClassifier\n",
        "from sklearn.metrics import accuracy_score, classification_report, roc_auc_score\n",
        "from sklearn.model_selection import cross_val_score\n",
        "from nltk.stem import PorterStemmer\n",
        "import gspread\n",
        "import ipywidgets as widgets\n",
        "\n",
        "\n",
        "# Librerías Google y credenciales Google\n",
        "from google.colab import files\n",
        "from google.colab import auth\n",
        "from google.auth import default\n",
        "from oauth2client.client import GoogleCredentials"
      ],
      "metadata": {
        "id": "SuCbrpQw98xx"
      },
      "execution_count": 90,
      "outputs": []
    },
    {
      "cell_type": "code",
      "source": [
        "auth.authenticate_user()\n",
        "creds, _ = default()\n",
        "gc = gspread.authorize(creds)"
      ],
      "metadata": {
        "id": "zpxsPqCAlzdl"
      },
      "execution_count": 2,
      "outputs": []
    },
    {
      "cell_type": "code",
      "execution_count": 3,
      "metadata": {
        "id": "MQYXBQ2orQ51"
      },
      "outputs": [],
      "source": [
        "wb = gc.open_by_key(\"1F1CO_3cDV1mz49VGI8CAhlV5FD34ae8_VCsoAkY8wmI\")\n",
        "sheet = wb.worksheet('CatálogoConsolidado')\n",
        "data = sheet.get_all_values()\n",
        "Sample = pd.DataFrame(data)\n",
        "Sample.columns = Sample.loc[0,:]\n",
        "Sample.drop(0,axis = 0, inplace = True)"
      ]
    },
    {
      "cell_type": "code",
      "source": [
        "wb = gc.open_by_key(\"19J2GOGRs17-Rk6Tup9FfUwJtsfpslg9Zf8Pe7jhhKg0\")\n",
        "sheet = wb.worksheet('Agrupadores Globales')\n",
        "data = sheet.get_all_values()\n",
        "Campos = pd.DataFrame(data)\n",
        "Campos.columns = Campos.loc[0,:]\n",
        "Campos.drop(0,axis = 0, inplace = True)"
      ],
      "metadata": {
        "id": "p_pBWuU9nLF9"
      },
      "execution_count": 4,
      "outputs": []
    },
    {
      "cell_type": "code",
      "source": [
        "# Get relevant attributes and clean their names\n",
        "Sample = Sample[[\"Agrupador GLOBAL N2\",\"Servicio (Entregable)\", \"Descripción del servicio\"]].rename(columns = {\n",
        "                                                                             \"Agrupador GLOBAL N2\":\"Group\",\n",
        "                                                                                                            \"Servicio (Entregable)\":\"s\",\n",
        "                                                                             \"Descripción del servicio\":\"de\"})"
      ],
      "metadata": {
        "id": "li3c8rgzg-vC"
      },
      "execution_count": 5,
      "outputs": []
    },
    {
      "cell_type": "code",
      "source": [
        "Sample = Sample.assign(Description = Sample.de + \" \" + Sample.s).drop([\"s\",\"de\"],axis = 1)"
      ],
      "metadata": {
        "id": "5HwaH4f0eJQG"
      },
      "execution_count": 6,
      "outputs": []
    },
    {
      "cell_type": "code",
      "source": [
        "# Get relevant attributes and clean their names\n",
        "Campos = Campos[[\"DESCRIPCIÓN\",\"AGRUPADOR_GLOBAL_N2\"]].rename(columns = {\"DESCRIPCIÓN\":\"Description\",\n",
        "                                                                             \"AGRUPADOR_GLOBAL_N2\":\"Group\"})"
      ],
      "metadata": {
        "id": "2WcFixPT1umU"
      },
      "execution_count": 7,
      "outputs": []
    },
    {
      "cell_type": "code",
      "source": [
        "Campos = Campos.assign(Description = Campos.Description.str.lower()).assign(Group_n = lambda x: x.Group.str.extract(\"(^\\d+)\"))"
      ],
      "metadata": {
        "id": "kvuviEUo2uvO"
      },
      "execution_count": 8,
      "outputs": []
    },
    {
      "cell_type": "code",
      "source": [
        "Campos = Campos.drop(\"Group_n\",axis =1)\n",
        "Sample = pd.concat([Campos,Sample])"
      ],
      "metadata": {
        "id": "69ofWC3NQVjL"
      },
      "execution_count": 9,
      "outputs": []
    },
    {
      "cell_type": "code",
      "source": [
        "Sample = Sample.loc[~Sample.Group.str.contains(\"99\")]"
      ],
      "metadata": {
        "id": "hCoSE3J4N5Dk"
      },
      "execution_count": 10,
      "outputs": []
    },
    {
      "cell_type": "code",
      "source": [
        "Sample = Sample.assign(Description = Sample.Description.str.lower())"
      ],
      "metadata": {
        "id": "tA2xEXunTryO"
      },
      "execution_count": 11,
      "outputs": []
    },
    {
      "cell_type": "code",
      "source": [
        "Sample = Sample.reset_index(names = \"n\").reset_index(names = \"Doc\").drop(\"n\",axis = 1)"
      ],
      "metadata": {
        "id": "V-CAYv43Qqab"
      },
      "execution_count": 12,
      "outputs": []
    },
    {
      "cell_type": "code",
      "source": [
        "# Split into tokens and reshape the data to one row per token\n",
        "Sample = Sample.assign(Description = Sample.Description.str.split()).explode(\"Description\")\n",
        "Sample = Sample.dropna()"
      ],
      "metadata": {
        "id": "oPHPhtbbjsjl"
      },
      "execution_count": 13,
      "outputs": []
    },
    {
      "cell_type": "code",
      "source": [
        "# Import natural language library and extract the collection of Spanish stopwords\n",
        "import nltk\n",
        "nltk.download('stopwords')\n",
        "Sample = Sample.reset_index().drop(\"index\", axis = 1)\n",
        "stopword_es = nltk.corpus.stopwords.words('spanish')"
      ],
      "metadata": {
        "id": "XYLRf7iBof-4",
        "colab": {
          "base_uri": "https://localhost:8080/"
        },
        "outputId": "0c3d0c15-9f79-41d0-e5a5-9ee2d007611a"
      },
      "execution_count": 14,
      "outputs": [
        {
          "output_type": "stream",
          "name": "stderr",
          "text": [
            "[nltk_data] Downloading package stopwords to /root/nltk_data...\n",
            "[nltk_data]   Unzipping corpora/stopwords.zip.\n"
          ]
        }
      ]
    },
    {
      "cell_type": "code",
      "source": [
        "# Remove punctuation\n",
        "Sample = Sample.assign(Description = Sample.Description.str.replace('([&%—●•:–>.€ª,;()-/])',''))\n",
        "Sample = Sample.assign(Description = Sample.Description.str.replace('\"',''))\n",
        "Sample['Description'] = Sample['Description'].str.replace(r'“|”', '', regex=True)\n",
        "Sample = Sample.assign(Description = Sample.Description.str.replace('[',''))\n",
        "Sample = Sample.assign(Description = Sample.Description.str.replace(']',''))\n",
        "Sample = Sample.assign(Description = Sample.Description.str.replace('(\\d+)',''))\n",
        "Sample = Sample.reset_index()"
      ],
      "metadata": {
        "id": "YH3Es2c5oSvO",
        "colab": {
          "base_uri": "https://localhost:8080/"
        },
        "outputId": "baa901a5-a63b-4e40-e8c8-6480b1fac3ae"
      },
      "execution_count": 15,
      "outputs": [
        {
          "output_type": "stream",
          "name": "stderr",
          "text": [
            "<ipython-input-15-1f942775ef30>:2: FutureWarning: The default value of regex will change from True to False in a future version.\n",
            "  Sample = Sample.assign(Description = Sample.Description.str.replace('([&%—●•:–>.€ª,;()-/])',''))\n",
            "<ipython-input-15-1f942775ef30>:5: FutureWarning: The default value of regex will change from True to False in a future version. In addition, single character regular expressions will *not* be treated as literal strings when regex=True.\n",
            "  Sample = Sample.assign(Description = Sample.Description.str.replace('[',''))\n",
            "<ipython-input-15-1f942775ef30>:6: FutureWarning: The default value of regex will change from True to False in a future version. In addition, single character regular expressions will *not* be treated as literal strings when regex=True.\n",
            "  Sample = Sample.assign(Description = Sample.Description.str.replace(']',''))\n",
            "<ipython-input-15-1f942775ef30>:7: FutureWarning: The default value of regex will change from True to False in a future version.\n",
            "  Sample = Sample.assign(Description = Sample.Description.str.replace('(\\d+)',''))\n"
          ]
        }
      ]
    },
    {
      "cell_type": "code",
      "source": [
        "# Filter Stopwords\n",
        "position = []\n",
        "for i in range(Sample.shape[0]):\n",
        "    if Sample.Description[i] in stopword_es:\n",
        "        position.append(i)\n",
        "Sample.drop(position, inplace= True)"
      ],
      "metadata": {
        "id": "2Rdeho_pqdTW"
      },
      "execution_count": 16,
      "outputs": []
    },
    {
      "cell_type": "code",
      "source": [
        "from snowballstemmer import stemmer\n",
        "stem = []\n",
        "stemmer_es = stemmer(\"spanish\")\n",
        "for word in Sample.Description:\n",
        "  stem.append(stemmer_es.stemWord(word))\n",
        "Sample[\"Description\"] = stem"
      ],
      "metadata": {
        "id": "UiEo5yZ29UGi"
      },
      "execution_count": 17,
      "outputs": []
    },
    {
      "cell_type": "code",
      "source": [
        "Sample = Sample.groupby([\"Doc\",\"Group\"]).Description.apply(\" \".join).reset_index()"
      ],
      "metadata": {
        "id": "ZHJIFPI9Sv2c"
      },
      "execution_count": 18,
      "outputs": []
    },
    {
      "cell_type": "code",
      "source": [
        "Sample = Sample.loc[~Sample.Group.str.contains(\"(\\*)\")]"
      ],
      "metadata": {
        "id": "-RjL4fqLQmWV",
        "colab": {
          "base_uri": "https://localhost:8080/"
        },
        "outputId": "a00a09a7-bff7-4f4c-d67f-62e372502bb3"
      },
      "execution_count": 19,
      "outputs": [
        {
          "output_type": "stream",
          "name": "stderr",
          "text": [
            "<ipython-input-19-14448eee26cf>:1: UserWarning: This pattern is interpreted as a regular expression, and has match groups. To actually get the groups, use str.extract.\n",
            "  Sample = Sample.loc[~Sample.Group.str.contains(\"(\\*)\")]\n"
          ]
        }
      ]
    },
    {
      "cell_type": "code",
      "source": [
        "def check_presence(text):\n",
        "    specific_attribute = 'riesg'  # Replace with your specific attribute\n",
        "\n",
        "    # Check if the specific attribute is in the text\n",
        "    if specific_attribute in text.lower():\n",
        "        return 1  # Attribute is present\n",
        "    else:\n",
        "        return 0  # Attribute is not present"
      ],
      "metadata": {
        "id": "ka5qVdU2YjmI"
      },
      "execution_count": 20,
      "outputs": []
    },
    {
      "cell_type": "code",
      "source": [
        "# Apply the function to create the new attribute\n",
        "Sample['Atrr_1'] = Sample['Description'].apply(check_presence)"
      ],
      "metadata": {
        "id": "qtlSn30mYnQL"
      },
      "execution_count": 21,
      "outputs": []
    },
    {
      "cell_type": "code",
      "source": [
        "Sample['Description'] = Sample['Description'].str.replace(r'\\s+', ' ', regex=True)"
      ],
      "metadata": {
        "id": "FIH18uESG6h2"
      },
      "execution_count": 22,
      "outputs": []
    },
    {
      "cell_type": "markdown",
      "source": [
        "## Model"
      ],
      "metadata": {
        "id": "wzE335en-mRp"
      }
    },
    {
      "cell_type": "code",
      "source": [
        "X = Sample.drop(columns=['Group'])  # Replace 'target_column' with the name of your target variable\n",
        "y = Sample['Group']\n",
        "\n",
        "test_size = 0.1\n",
        "\n",
        "# Split the data into training and testing sets\n",
        "X_train, X_test, y_train, y_test = train_test_split(X, y, test_size=test_size, random_state=42,shuffle=True)\n",
        "\n",
        "\n"
      ],
      "metadata": {
        "id": "BEraEDn7Kdtn"
      },
      "execution_count": 23,
      "outputs": []
    },
    {
      "cell_type": "code",
      "source": [
        "tfidf_vectorizer = TfidfVectorizer(ngram_range=(1,2))\n",
        "X_tfidf = tfidf_vectorizer.fit_transform(X_train[\"Description\"])\n",
        "#best_accuracy = 0\n",
        "#best_estimator = 0\n",
        "import scipy.sparse as sp\n",
        "\n",
        "# Convert \"Attr_1\" to a sparse matrix\n",
        "attr_1_sparse = sp.csr_matrix(X_train.Atrr_1.values.reshape(-1, 1))\n",
        "\n",
        "# Concatenate the TF-IDF matrix and \"Attr_1\" matrix horizontally\n",
        "X_combined = sp.hstack([X_tfidf, attr_1_sparse])\n",
        "#for estimator in estimators:\n",
        "  # Create the RandomForestClassifier with the current max_depth\n",
        "classifier = RandomForestClassifier(n_estimators=1000, random_state=42, class_weight= \"balanced_subsample\")\n",
        "\n",
        "    # Perform 5-fold cross-validation and calculate the mean accuracy\n",
        "    #scores = cross_val_score(classifier, X_tfidf, y_train, cv=5, scoring='accuracy')\n",
        "   # mean_accuracy = np.mean(scores)\n",
        "classifier.fit(X_tfidf,y_train)\n",
        "    # Check if this max_depth yields a better accuracy\n",
        "    #if mean_accuracy > best_accuracy:\n",
        "       # best_accuracy = mean_accuracy\n",
        "      #  best_estimator = estimator\n"
      ],
      "metadata": {
        "id": "czIAOs7aZOOQ",
        "colab": {
          "base_uri": "https://localhost:8080/",
          "height": 91
        },
        "outputId": "0ad54a3f-bc01-440f-f4a3-cda0fd7b167b"
      },
      "execution_count": 24,
      "outputs": [
        {
          "output_type": "execute_result",
          "data": {
            "text/plain": [
              "RandomForestClassifier(class_weight='balanced_subsample', n_estimators=1000,\n",
              "                       random_state=42)"
            ],
            "text/html": [
              "<style>#sk-container-id-1 {color: black;background-color: white;}#sk-container-id-1 pre{padding: 0;}#sk-container-id-1 div.sk-toggleable {background-color: white;}#sk-container-id-1 label.sk-toggleable__label {cursor: pointer;display: block;width: 100%;margin-bottom: 0;padding: 0.3em;box-sizing: border-box;text-align: center;}#sk-container-id-1 label.sk-toggleable__label-arrow:before {content: \"▸\";float: left;margin-right: 0.25em;color: #696969;}#sk-container-id-1 label.sk-toggleable__label-arrow:hover:before {color: black;}#sk-container-id-1 div.sk-estimator:hover label.sk-toggleable__label-arrow:before {color: black;}#sk-container-id-1 div.sk-toggleable__content {max-height: 0;max-width: 0;overflow: hidden;text-align: left;background-color: #f0f8ff;}#sk-container-id-1 div.sk-toggleable__content pre {margin: 0.2em;color: black;border-radius: 0.25em;background-color: #f0f8ff;}#sk-container-id-1 input.sk-toggleable__control:checked~div.sk-toggleable__content {max-height: 200px;max-width: 100%;overflow: auto;}#sk-container-id-1 input.sk-toggleable__control:checked~label.sk-toggleable__label-arrow:before {content: \"▾\";}#sk-container-id-1 div.sk-estimator input.sk-toggleable__control:checked~label.sk-toggleable__label {background-color: #d4ebff;}#sk-container-id-1 div.sk-label input.sk-toggleable__control:checked~label.sk-toggleable__label {background-color: #d4ebff;}#sk-container-id-1 input.sk-hidden--visually {border: 0;clip: rect(1px 1px 1px 1px);clip: rect(1px, 1px, 1px, 1px);height: 1px;margin: -1px;overflow: hidden;padding: 0;position: absolute;width: 1px;}#sk-container-id-1 div.sk-estimator {font-family: monospace;background-color: #f0f8ff;border: 1px dotted black;border-radius: 0.25em;box-sizing: border-box;margin-bottom: 0.5em;}#sk-container-id-1 div.sk-estimator:hover {background-color: #d4ebff;}#sk-container-id-1 div.sk-parallel-item::after {content: \"\";width: 100%;border-bottom: 1px solid gray;flex-grow: 1;}#sk-container-id-1 div.sk-label:hover label.sk-toggleable__label {background-color: #d4ebff;}#sk-container-id-1 div.sk-serial::before {content: \"\";position: absolute;border-left: 1px solid gray;box-sizing: border-box;top: 0;bottom: 0;left: 50%;z-index: 0;}#sk-container-id-1 div.sk-serial {display: flex;flex-direction: column;align-items: center;background-color: white;padding-right: 0.2em;padding-left: 0.2em;position: relative;}#sk-container-id-1 div.sk-item {position: relative;z-index: 1;}#sk-container-id-1 div.sk-parallel {display: flex;align-items: stretch;justify-content: center;background-color: white;position: relative;}#sk-container-id-1 div.sk-item::before, #sk-container-id-1 div.sk-parallel-item::before {content: \"\";position: absolute;border-left: 1px solid gray;box-sizing: border-box;top: 0;bottom: 0;left: 50%;z-index: -1;}#sk-container-id-1 div.sk-parallel-item {display: flex;flex-direction: column;z-index: 1;position: relative;background-color: white;}#sk-container-id-1 div.sk-parallel-item:first-child::after {align-self: flex-end;width: 50%;}#sk-container-id-1 div.sk-parallel-item:last-child::after {align-self: flex-start;width: 50%;}#sk-container-id-1 div.sk-parallel-item:only-child::after {width: 0;}#sk-container-id-1 div.sk-dashed-wrapped {border: 1px dashed gray;margin: 0 0.4em 0.5em 0.4em;box-sizing: border-box;padding-bottom: 0.4em;background-color: white;}#sk-container-id-1 div.sk-label label {font-family: monospace;font-weight: bold;display: inline-block;line-height: 1.2em;}#sk-container-id-1 div.sk-label-container {text-align: center;}#sk-container-id-1 div.sk-container {/* jupyter's `normalize.less` sets `[hidden] { display: none; }` but bootstrap.min.css set `[hidden] { display: none !important; }` so we also need the `!important` here to be able to override the default hidden behavior on the sphinx rendered scikit-learn.org. See: https://github.com/scikit-learn/scikit-learn/issues/21755 */display: inline-block !important;position: relative;}#sk-container-id-1 div.sk-text-repr-fallback {display: none;}</style><div id=\"sk-container-id-1\" class=\"sk-top-container\"><div class=\"sk-text-repr-fallback\"><pre>RandomForestClassifier(class_weight=&#x27;balanced_subsample&#x27;, n_estimators=1000,\n",
              "                       random_state=42)</pre><b>In a Jupyter environment, please rerun this cell to show the HTML representation or trust the notebook. <br />On GitHub, the HTML representation is unable to render, please try loading this page with nbviewer.org.</b></div><div class=\"sk-container\" hidden><div class=\"sk-item\"><div class=\"sk-estimator sk-toggleable\"><input class=\"sk-toggleable__control sk-hidden--visually\" id=\"sk-estimator-id-1\" type=\"checkbox\" checked><label for=\"sk-estimator-id-1\" class=\"sk-toggleable__label sk-toggleable__label-arrow\">RandomForestClassifier</label><div class=\"sk-toggleable__content\"><pre>RandomForestClassifier(class_weight=&#x27;balanced_subsample&#x27;, n_estimators=1000,\n",
              "                       random_state=42)</pre></div></div></div></div></div>"
            ]
          },
          "metadata": {},
          "execution_count": 24
        }
      ]
    },
    {
      "cell_type": "markdown",
      "source": [
        "## Input text\n",
        "\n"
      ],
      "metadata": {
        "id": "HGpLC-NTo6CY"
      }
    },
    {
      "cell_type": "code",
      "source": [
        "text = input(\"Enter your service description:\")"
      ],
      "metadata": {
        "id": "dW_YC4lKyr1I",
        "colab": {
          "base_uri": "https://localhost:8080/",
          "height": 49,
          "referenced_widgets": [
            "539c56c7de544b14b6cb3099996536ab",
            "3228b3f83d8f48109f8be86a033cd335",
            "fa1529e54f054ec7b201aa039bb44e6d"
          ]
        },
        "outputId": "a2bdefb9-2e79-48d4-ddf8-cee4bbc06db2"
      },
      "execution_count": 95,
      "outputs": [
        {
          "output_type": "display_data",
          "data": {
            "text/plain": [
              "Text(value='', placeholder='Enter text')"
            ],
            "application/vnd.jupyter.widget-view+json": {
              "version_major": 2,
              "version_minor": 0,
              "model_id": "539c56c7de544b14b6cb3099996536ab"
            }
          },
          "metadata": {}
        }
      ]
    },
    {
      "cell_type": "markdown",
      "source": [
        "## Operations"
      ],
      "metadata": {
        "id": "0l_IM-2qHTLY"
      }
    },
    {
      "cell_type": "code",
      "source": [
        "Sample = pd.DataFrame({\"Description\": [text]})"
      ],
      "metadata": {
        "id": "h4TxzGmO63_X"
      },
      "execution_count": 78,
      "outputs": []
    },
    {
      "cell_type": "code",
      "source": [
        "Sample = Sample.assign(Description = Sample.Description.str.lower())"
      ],
      "metadata": {
        "id": "w3g2L-taqcHo"
      },
      "execution_count": 79,
      "outputs": []
    },
    {
      "cell_type": "code",
      "source": [
        "Sample = Sample.reset_index(names = \"n\").reset_index(names = \"Doc\").drop(\"n\",axis = 1)"
      ],
      "metadata": {
        "id": "4tGGM_wSqcHp"
      },
      "execution_count": 80,
      "outputs": []
    },
    {
      "cell_type": "code",
      "source": [
        "# Split into tokens and reshape the data to one row per token\n",
        "Sample = Sample.assign(Description = Sample.Description.str.split()).explode(\"Description\")"
      ],
      "metadata": {
        "id": "YWMzYcDHqcHp"
      },
      "execution_count": 81,
      "outputs": []
    },
    {
      "cell_type": "code",
      "source": [
        "# Import natural language library and extract the collection of Spanish stopwords\n",
        "import nltk\n",
        "nltk.download('stopwords')\n",
        "Sample = Sample.reset_index().drop(\"index\", axis = 1)\n",
        "stopword_es = nltk.corpus.stopwords.words('spanish')"
      ],
      "metadata": {
        "colab": {
          "base_uri": "https://localhost:8080/"
        },
        "outputId": "91ff5f93-9d66-4518-f837-55002b4556a9",
        "id": "1Sw6O7AuqcHp"
      },
      "execution_count": 82,
      "outputs": [
        {
          "output_type": "stream",
          "name": "stderr",
          "text": [
            "[nltk_data] Downloading package stopwords to /root/nltk_data...\n",
            "[nltk_data]   Package stopwords is already up-to-date!\n"
          ]
        }
      ]
    },
    {
      "cell_type": "code",
      "source": [
        "Sample = Sample.assign(Description = Sample.Description.str.replace('([&%—●•:–>.€ª,;()-/])',''))\n",
        "Sample = Sample.assign(Description = Sample.Description.str.replace('\"',''))\n",
        "Sample['Description'] = Sample['Description'].str.replace(r'“|”', '', regex=True)\n",
        "Sample = Sample.assign(Description = Sample.Description.str.replace('[',''))\n",
        "Sample = Sample.assign(Description = Sample.Description.str.replace(']',''))\n",
        "Sample = Sample.assign(Description = Sample.Description.str.replace('(\\d+)',''))\n",
        "Sample = Sample.reset_index()"
      ],
      "metadata": {
        "colab": {
          "base_uri": "https://localhost:8080/"
        },
        "outputId": "1e305ff1-e7cd-483a-e79c-d721a70e61cf",
        "id": "icByYkAvqcHq"
      },
      "execution_count": 83,
      "outputs": [
        {
          "output_type": "stream",
          "name": "stderr",
          "text": [
            "<ipython-input-83-2b4dc57221d3>:1: FutureWarning: The default value of regex will change from True to False in a future version.\n",
            "  Sample = Sample.assign(Description = Sample.Description.str.replace('([&%—●•:–>.€ª,;()-/])',''))\n",
            "<ipython-input-83-2b4dc57221d3>:4: FutureWarning: The default value of regex will change from True to False in a future version. In addition, single character regular expressions will *not* be treated as literal strings when regex=True.\n",
            "  Sample = Sample.assign(Description = Sample.Description.str.replace('[',''))\n",
            "<ipython-input-83-2b4dc57221d3>:5: FutureWarning: The default value of regex will change from True to False in a future version. In addition, single character regular expressions will *not* be treated as literal strings when regex=True.\n",
            "  Sample = Sample.assign(Description = Sample.Description.str.replace(']',''))\n",
            "<ipython-input-83-2b4dc57221d3>:6: FutureWarning: The default value of regex will change from True to False in a future version.\n",
            "  Sample = Sample.assign(Description = Sample.Description.str.replace('(\\d+)',''))\n"
          ]
        }
      ]
    },
    {
      "cell_type": "code",
      "source": [
        "# Filter Stopwords\n",
        "position = []\n",
        "for i in range(Sample.shape[0]):\n",
        "    if Sample.Description[i] in stopword_es:\n",
        "        position.append(i)\n",
        "Sample.drop(position, inplace= True)"
      ],
      "metadata": {
        "id": "VizCi_toqzz7"
      },
      "execution_count": 84,
      "outputs": []
    },
    {
      "cell_type": "code",
      "source": [
        "from snowballstemmer import stemmer\n",
        "\n",
        "# Create a stemmer object for Spanish\n",
        "stemmer_es = stemmer(\"spanish\")\n",
        "\n",
        "# Define a function to perform stemming only on text data\n",
        "def stem_text(text):\n",
        "    if isinstance(text, str):  # Check if it's a string\n",
        "        words = text.split()\n",
        "        stemmed_words = [stemmer_es.stemWord(word) for word in words]\n",
        "        return ' '.join(stemmed_words)\n",
        "    return text  # Return the original value for non-text data\n",
        "\n",
        "# Apply stemming to the \"Description\" column while preserving non-text values\n",
        "Sample[\"Description\"] = Sample[\"Description\"].apply(stem_text)"
      ],
      "metadata": {
        "id": "F24MvKSiPkux"
      },
      "execution_count": 85,
      "outputs": []
    },
    {
      "cell_type": "code",
      "source": [
        "Sample = Sample.assign(Description = Sample.Description.astype(\"str\"))\n",
        "Sample = Sample.groupby([\"Doc\"]).Description.apply(\" \".join).reset_index()"
      ],
      "metadata": {
        "id": "nNINZEl7qz0C"
      },
      "execution_count": 86,
      "outputs": []
    },
    {
      "cell_type": "code",
      "source": [
        "# Vectorize the new text documents using the same TF-IDF vectorizer\n",
        "new_text_tfidf = tfidf_vectorizer.transform(Sample[\"Description\"])\n",
        "\n",
        "\n",
        "# Make probability predictions for the new text documents\n",
        "predicted_probabilities = classifier.predict_proba(new_text_tfidf)\n",
        "\n",
        "# Get the top two predicted class labels for each text document\n",
        "top_three_predictions = []\n",
        "for probs in predicted_probabilities:\n",
        "    # Sort the probabilities and get the indices of the top two\n",
        "    top_three_indices = sorted(range(len(probs)), key=lambda i: probs[i], reverse=True)[:4]\n",
        "\n",
        "    # Get the corresponding class labels for the top two indices\n",
        "    top_three_classes = [classifier.classes_[i] for i in top_three_indices]\n",
        "\n",
        "    top_three_predictions.append(top_three_classes)\n",
        "\n",
        "# top_three_predictions now contains the top two predicted class labels for each text document"
      ],
      "metadata": {
        "id": "v5Qd8ktVzAw1"
      },
      "execution_count": 87,
      "outputs": []
    },
    {
      "cell_type": "code",
      "source": [
        "preds = pd.DataFrame(top_three_predictions).rename(columns = {0:\"Pred_1\",\n",
        "                                                    1:\"Pred_2\",\n",
        "                                                            2: \"Pred_3\",\n",
        "                                                              3: \"Pred_4\"})"
      ],
      "metadata": {
        "id": "jpyxCwkWrT-X"
      },
      "execution_count": 88,
      "outputs": []
    },
    {
      "cell_type": "markdown",
      "source": [
        "## Output"
      ],
      "metadata": {
        "id": "_aZN5ko7HgSM"
      }
    },
    {
      "cell_type": "code",
      "source": [
        "preds"
      ],
      "metadata": {
        "colab": {
          "base_uri": "https://localhost:8080/",
          "height": 80
        },
        "id": "CZDWuz-SHh40",
        "outputId": "6bbaa1b9-73b2-4d18-8154-03e0b0ee7506"
      },
      "execution_count": 94,
      "outputs": [
        {
          "output_type": "display_data",
          "data": {
            "text/plain": [
              "                                              Pred_1  \\\n",
              "0  021- Información financiera regulatoria no púb...   \n",
              "\n",
              "                            Pred_2     Pred_3  \\\n",
              "0  049- Resto de reporting interno  110- Data   \n",
              "\n",
              "                                              Pred_4  \n",
              "0  023- ILAAP (Internal Liquidity Adequacy Assess...  "
            ],
            "text/html": [
              "\n",
              "  <div id=\"df-cec62cb3-dee3-4d59-822c-59baedd26a27\" class=\"colab-df-container\">\n",
              "    <div>\n",
              "<style scoped>\n",
              "    .dataframe tbody tr th:only-of-type {\n",
              "        vertical-align: middle;\n",
              "    }\n",
              "\n",
              "    .dataframe tbody tr th {\n",
              "        vertical-align: top;\n",
              "    }\n",
              "\n",
              "    .dataframe thead th {\n",
              "        text-align: right;\n",
              "    }\n",
              "</style>\n",
              "<table border=\"1\" class=\"dataframe\">\n",
              "  <thead>\n",
              "    <tr style=\"text-align: right;\">\n",
              "      <th></th>\n",
              "      <th>Pred_1</th>\n",
              "      <th>Pred_2</th>\n",
              "      <th>Pred_3</th>\n",
              "      <th>Pred_4</th>\n",
              "    </tr>\n",
              "  </thead>\n",
              "  <tbody>\n",
              "    <tr>\n",
              "      <th>0</th>\n",
              "      <td>021- Información financiera regulatoria no púb...</td>\n",
              "      <td>049- Resto de reporting interno</td>\n",
              "      <td>110- Data</td>\n",
              "      <td>023- ILAAP (Internal Liquidity Adequacy Assess...</td>\n",
              "    </tr>\n",
              "  </tbody>\n",
              "</table>\n",
              "</div>\n",
              "    <div class=\"colab-df-buttons\">\n",
              "\n",
              "  <div class=\"colab-df-container\">\n",
              "    <button class=\"colab-df-convert\" onclick=\"convertToInteractive('df-cec62cb3-dee3-4d59-822c-59baedd26a27')\"\n",
              "            title=\"Convert this dataframe to an interactive table.\"\n",
              "            style=\"display:none;\">\n",
              "\n",
              "  <svg xmlns=\"http://www.w3.org/2000/svg\" height=\"24px\" viewBox=\"0 -960 960 960\">\n",
              "    <path d=\"M120-120v-720h720v720H120Zm60-500h600v-160H180v160Zm220 220h160v-160H400v160Zm0 220h160v-160H400v160ZM180-400h160v-160H180v160Zm440 0h160v-160H620v160ZM180-180h160v-160H180v160Zm440 0h160v-160H620v160Z\"/>\n",
              "  </svg>\n",
              "    </button>\n",
              "\n",
              "  <style>\n",
              "    .colab-df-container {\n",
              "      display:flex;\n",
              "      gap: 12px;\n",
              "    }\n",
              "\n",
              "    .colab-df-convert {\n",
              "      background-color: #E8F0FE;\n",
              "      border: none;\n",
              "      border-radius: 50%;\n",
              "      cursor: pointer;\n",
              "      display: none;\n",
              "      fill: #1967D2;\n",
              "      height: 32px;\n",
              "      padding: 0 0 0 0;\n",
              "      width: 32px;\n",
              "    }\n",
              "\n",
              "    .colab-df-convert:hover {\n",
              "      background-color: #E2EBFA;\n",
              "      box-shadow: 0px 1px 2px rgba(60, 64, 67, 0.3), 0px 1px 3px 1px rgba(60, 64, 67, 0.15);\n",
              "      fill: #174EA6;\n",
              "    }\n",
              "\n",
              "    .colab-df-buttons div {\n",
              "      margin-bottom: 4px;\n",
              "    }\n",
              "\n",
              "    [theme=dark] .colab-df-convert {\n",
              "      background-color: #3B4455;\n",
              "      fill: #D2E3FC;\n",
              "    }\n",
              "\n",
              "    [theme=dark] .colab-df-convert:hover {\n",
              "      background-color: #434B5C;\n",
              "      box-shadow: 0px 1px 3px 1px rgba(0, 0, 0, 0.15);\n",
              "      filter: drop-shadow(0px 1px 2px rgba(0, 0, 0, 0.3));\n",
              "      fill: #FFFFFF;\n",
              "    }\n",
              "  </style>\n",
              "\n",
              "    <script>\n",
              "      const buttonEl =\n",
              "        document.querySelector('#df-cec62cb3-dee3-4d59-822c-59baedd26a27 button.colab-df-convert');\n",
              "      buttonEl.style.display =\n",
              "        google.colab.kernel.accessAllowed ? 'block' : 'none';\n",
              "\n",
              "      async function convertToInteractive(key) {\n",
              "        const element = document.querySelector('#df-cec62cb3-dee3-4d59-822c-59baedd26a27');\n",
              "        const dataTable =\n",
              "          await google.colab.kernel.invokeFunction('convertToInteractive',\n",
              "                                                    [key], {});\n",
              "        if (!dataTable) return;\n",
              "\n",
              "        const docLinkHtml = 'Like what you see? Visit the ' +\n",
              "          '<a target=\"_blank\" href=https://colab.research.google.com/notebooks/data_table.ipynb>data table notebook</a>'\n",
              "          + ' to learn more about interactive tables.';\n",
              "        element.innerHTML = '';\n",
              "        dataTable['output_type'] = 'display_data';\n",
              "        await google.colab.output.renderOutput(dataTable, element);\n",
              "        const docLink = document.createElement('div');\n",
              "        docLink.innerHTML = docLinkHtml;\n",
              "        element.appendChild(docLink);\n",
              "      }\n",
              "    </script>\n",
              "  </div>\n",
              "\n",
              "    </div>\n",
              "  </div>\n"
            ]
          },
          "metadata": {}
        }
      ]
    }
  ]
}